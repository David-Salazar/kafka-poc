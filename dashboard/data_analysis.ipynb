{
 "cells": [
  {
   "cell_type": "markdown",
   "metadata": {
    "extensions": {
     "jupyter_dashboards": {
      "activeView": "grid_default",
      "views": {
       "grid_default": {
        "col": 0,
        "height": 5,
        "hidden": false,
        "row": 0,
        "width": 12
       }
      }
     }
    }
   },
   "source": [
    "# Data Analysis\n",
    "\n",
    "At this time of the project, we have a fully working POC of an application that process Streaming Data in real time and uses machine learning to do online predictions. The results of the predictions are currently being stored in a MySQL database. \n",
    "\n",
    "In particular, this application reads a stream of tweets related to Covid-19, pre-process them and uses state-of-the-art NLP models to do sentiment and topic prediction analysis. Finally, these results are post-processed and written into a relational database in AWS. \n",
    "\n",
    "In this dashboard, we analyize our tweets' predictions:"
   ]
  },
  {
   "cell_type": "code",
   "execution_count": 1,
   "metadata": {
    "extensions": {
     "jupyter_dashboards": {
      "activeView": "grid_default",
      "views": {
       "grid_default": {
        "col": null,
        "height": 2,
        "hidden": true,
        "row": null,
        "width": 2
       }
      }
     }
    }
   },
   "outputs": [
    {
     "data": {
      "text/plain": [
       "'There are 31106 classified tweets in the database'"
      ]
     },
     "metadata": {},
     "output_type": "display_data"
    },
    {
     "data": {
      "text/html": [
       "<div>\n",
       "<style scoped>\n",
       "    .dataframe tbody tr th:only-of-type {\n",
       "        vertical-align: middle;\n",
       "    }\n",
       "\n",
       "    .dataframe tbody tr th {\n",
       "        vertical-align: top;\n",
       "    }\n",
       "\n",
       "    .dataframe thead th {\n",
       "        text-align: right;\n",
       "    }\n",
       "</style>\n",
       "<table border=\"1\" class=\"dataframe\">\n",
       "  <thead>\n",
       "    <tr style=\"text-align: right;\">\n",
       "      <th></th>\n",
       "      <th>tweet</th>\n",
       "      <th>sentiment_prediction</th>\n",
       "      <th>topic_prediction</th>\n",
       "    </tr>\n",
       "    <tr>\n",
       "      <th>date_creation</th>\n",
       "      <th></th>\n",
       "      <th></th>\n",
       "      <th></th>\n",
       "    </tr>\n",
       "  </thead>\n",
       "  <tbody>\n",
       "    <tr>\n",
       "      <th>2021-02-09 13:44:47</th>\n",
       "      <td>RT @iamcindychu: I beg my non-Asian allies and...</td>\n",
       "      <td>NEGATIVE</td>\n",
       "      <td>conspiracy</td>\n",
       "    </tr>\n",
       "    <tr>\n",
       "      <th>2021-02-09 13:44:47</th>\n",
       "      <td>RT @MartinAButters: How a Powerful #ERP System...</td>\n",
       "      <td>POSITIVE</td>\n",
       "      <td>commerce</td>\n",
       "    </tr>\n",
       "    <tr>\n",
       "      <th>2021-02-09 13:44:47</th>\n",
       "      <td>@B52Malmet @JoannBreitling This is a horrible ...</td>\n",
       "      <td>NEGATIVE</td>\n",
       "      <td>public health</td>\n",
       "    </tr>\n",
       "    <tr>\n",
       "      <th>2021-02-09 13:44:47</th>\n",
       "      <td>@NIAIDNews Director Anthony Fauci, discusses w...</td>\n",
       "      <td>NEGATIVE</td>\n",
       "      <td>disease</td>\n",
       "    </tr>\n",
       "    <tr>\n",
       "      <th>2021-02-09 13:44:47</th>\n",
       "      <td>@gatrick_liz @TUIUK Liz sadly you got more cha...</td>\n",
       "      <td>NEGATIVE</td>\n",
       "      <td>commerce</td>\n",
       "    </tr>\n",
       "  </tbody>\n",
       "</table>\n",
       "</div>"
      ],
      "text/plain": [
       "                                                                 tweet  \\\n",
       "date_creation                                                            \n",
       "2021-02-09 13:44:47  RT @iamcindychu: I beg my non-Asian allies and...   \n",
       "2021-02-09 13:44:47  RT @MartinAButters: How a Powerful #ERP System...   \n",
       "2021-02-09 13:44:47  @B52Malmet @JoannBreitling This is a horrible ...   \n",
       "2021-02-09 13:44:47  @NIAIDNews Director Anthony Fauci, discusses w...   \n",
       "2021-02-09 13:44:47  @gatrick_liz @TUIUK Liz sadly you got more cha...   \n",
       "\n",
       "                    sentiment_prediction topic_prediction  \n",
       "date_creation                                              \n",
       "2021-02-09 13:44:47             NEGATIVE       conspiracy  \n",
       "2021-02-09 13:44:47             POSITIVE         commerce  \n",
       "2021-02-09 13:44:47             NEGATIVE    public health  \n",
       "2021-02-09 13:44:47             NEGATIVE          disease  \n",
       "2021-02-09 13:44:47             NEGATIVE         commerce  "
      ]
     },
     "execution_count": 1,
     "metadata": {},
     "output_type": "execute_result"
    }
   ],
   "source": [
    "########### Database Connection ##################\n",
    "\n",
    "import pymysql\n",
    "import numpy as np\n",
    "\n",
    "ENDPOINT = \"database-kaka.c8wdpocz3thc.us-east-1.rds.amazonaws.com\"\n",
    "PASSWORD = \"Bf2TiD4M4aOpbglEd9lM\"\n",
    "DBNAME = \"databasekafka\"\n",
    "USR = \"admin\"\n",
    "PORT = 3306\n",
    "connection = pymysql.connect(host=ENDPOINT, user=USR, password=PASSWORD, port=PORT, db=DBNAME)\n",
    "import pandas as pd\n",
    "query = 'SELECT * FROM covid_tweets'\n",
    "result = pd.read_sql(query, connection).set_index('date_creation').sort_index()\n",
    "result = result.loc[\"2021-02-09\":]\n",
    "connection.close() #close the connection\n",
    "display(f\"There are {len(result)} classified tweets in the database\")\n",
    "result[[\"tweet\",\"sentiment_prediction\", \"topic_prediction\"]].head()"
   ]
  },
  {
   "cell_type": "markdown",
   "metadata": {
    "extensions": {
     "jupyter_dashboards": {
      "activeView": "grid_default",
      "views": {
       "grid_default": {
        "col": null,
        "height": 2,
        "hidden": true,
        "row": null,
        "width": 2
       }
      }
     }
    }
   },
   "source": [
    "## Sentiment Analysis\n",
    "\n",
    "We expect much more negative predictions than positive predictions:"
   ]
  },
  {
   "cell_type": "code",
   "execution_count": 2,
   "metadata": {
    "extensions": {
     "jupyter_dashboards": {
      "activeView": "grid_default",
      "views": {
       "grid_default": {
        "col": null,
        "height": 2,
        "hidden": true,
        "row": null,
        "width": 2
       }
      }
     }
    }
   },
   "outputs": [
    {
     "data": {
      "text/plain": [
       "sentiment_prediction\n",
       "NEGATIVE    23939\n",
       "POSITIVE     7167\n",
       "dtype: int64"
      ]
     },
     "execution_count": 2,
     "metadata": {},
     "output_type": "execute_result"
    }
   ],
   "source": [
    "result.value_counts('sentiment_prediction')"
   ]
  },
  {
   "cell_type": "code",
   "execution_count": 24,
   "metadata": {
    "extensions": {
     "jupyter_dashboards": {
      "activeView": "grid_default",
      "views": {
       "grid_default": {
        "col": null,
        "height": 2,
        "hidden": true,
        "row": null,
        "width": 2
       }
      }
     }
    }
   },
   "outputs": [],
   "source": [
    "%matplotlib widget\n",
    "import matplotlib.pyplot as plt  \n",
    "import ipympl\n",
    "import seaborn as sns\n",
    "\n",
    "import matplotlib as mpl\n",
    "\n",
    "plt.rcParams['axes.edgecolor']='#333F4B'\n",
    "plt.rcParams['axes.linewidth']=0.8\n",
    "plt.rcParams['xtick.color']='#333F4B'\n",
    "plt.rcParams['ytick.color']='#333F4B'\n",
    "\n",
    "plt.rcParams['font.family'] = 'DejaVu Sans'\n",
    "plt.rcParams['font.sans-serif'] = 'DejaVu Sans'\n",
    "\n",
    "plt.rcParams.update({'axes.spines.top': False, 'axes.spines.right': False})\n",
    "sns.set_palette(\"Set1\")"
   ]
  },
  {
   "cell_type": "markdown",
   "metadata": {
    "extensions": {
     "jupyter_dashboards": {
      "activeView": "grid_default",
      "views": {
       "grid_default": {
        "col": 0,
        "height": 2,
        "hidden": false,
        "row": 5,
        "width": 8
       }
      }
     }
    }
   },
   "source": [
    "# Tweets Sentiments across time\n"
   ]
  },
  {
   "cell_type": "code",
   "execution_count": 26,
   "metadata": {
    "extensions": {
     "jupyter_dashboards": {
      "activeView": "grid_default",
      "views": {
       "grid_default": {
        "col": 0,
        "height": 10,
        "hidden": false,
        "row": 7,
        "width": 11
       }
      }
     }
    }
   },
   "outputs": [
    {
     "data": {
      "application/vnd.jupyter.widget-view+json": {
       "model_id": "f12e307f581845b08ef8bc7ea91a4421",
       "version_major": 2,
       "version_minor": 0
      },
      "text/plain": [
       "Canvas(toolbar=Toolbar(toolitems=[('Home', 'Reset original view', 'home', 'home'), ('Back', 'Back to previous …"
      ]
     },
     "metadata": {},
     "output_type": "display_data"
    },
    {
     "data": {
      "text/plain": [
       "Text(0.5, 1.0, \"Tweet's sentiment across time\")"
      ]
     },
     "execution_count": 26,
     "metadata": {},
     "output_type": "execute_result"
    }
   ],
   "source": [
    "mpl.rcParams['text.color'] = 'black'\n",
    "result.groupby([\"date_creation\", \"sentiment_prediction\"]) \\\n",
    ".agg({\"sentiment_score\": np.sum})\\\n",
    ".unstack().plot(xlabel=\"Seconds\", ylabel=\"# of tweets\")\n",
    "plt.legend([\"Negative tweets\", \"Positive Tweets\"])\n",
    "plt.title(\"Tweet's sentiment across time\")"
   ]
  },
  {
   "cell_type": "markdown",
   "metadata": {
    "extensions": {
     "jupyter_dashboards": {
      "activeView": "grid_default",
      "views": {
       "grid_default": {
        "col": null,
        "height": 2,
        "hidden": true,
        "row": null,
        "width": 2
       }
      }
     }
    }
   },
   "source": [
    "And indeed there are. Out of the 18'000 tweets processed, only 3'000 have a positive sentiment. Let's check the word clouds for both batches of predictions."
   ]
  },
  {
   "cell_type": "code",
   "execution_count": 18,
   "metadata": {
    "extensions": {
     "jupyter_dashboards": {
      "activeView": "grid_default",
      "views": {
       "grid_default": {
        "col": null,
        "height": 2,
        "hidden": true,
        "row": null,
        "width": 2
       }
      }
     }
    }
   },
   "outputs": [],
   "source": [
    "from wordcloud import WordCloud, STOPWORDS, ImageColorGenerator\n",
    "import matplotlib.pyplot as plt\n",
    "\n",
    "def word_cloud_sentiment(sentiment):\n",
    "\n",
    "    text = \" \".join(tweet for tweet in result.query(f'sentiment_prediction==\"{sentiment}\"')[\"tweet\"])\n",
    "\n",
    "    stopwords = set(STOPWORDS)\n",
    "    stopwords.update([\"RT\", \"https\", \"t\", \"COVID\", \"coronavirus\", \"Covid-19\", \"pandemic\", \"co\",\n",
    "                     \"s\"])\n",
    "    print(f\"{sentiment} tweets: Word cloud \\n\")\n",
    "    wordcloud = WordCloud(stopwords=stopwords, background_color=\"white\",\n",
    "                         width=2000, height= 1200).generate(text)\n",
    "    plt.figure()\n",
    "    plt.imshow(wordcloud, interpolation='bilinear')\n",
    "    plt.axis(\"off\")\n",
    "    plt.show()"
   ]
  },
  {
   "cell_type": "code",
   "execution_count": 6,
   "metadata": {
    "extensions": {
     "jupyter_dashboards": {
      "activeView": "grid_default",
      "views": {
       "grid_default": {
        "col": null,
        "height": 2,
        "hidden": true,
        "row": null,
        "width": 2
       }
      }
     }
    }
   },
   "outputs": [
    {
     "data": {
      "text/plain": [
       "topic_prediction\n",
       "disease                8071\n",
       "conspiracy             5313\n",
       "politics               3387\n",
       "vaccines               3361\n",
       "public health          1667\n",
       "comedy                 1608\n",
       "death                  1490\n",
       "commerce               1367\n",
       "education              1208\n",
       "China                  1037\n",
       "mental health           885\n",
       "sports events           507\n",
       "the economy             455\n",
       "natural environment     386\n",
       "globalization           364\n",
       "dtype: int64"
      ]
     },
     "execution_count": 6,
     "metadata": {},
     "output_type": "execute_result"
    }
   ],
   "source": [
    "result.value_counts('topic_prediction')"
   ]
  },
  {
   "cell_type": "markdown",
   "metadata": {
    "extensions": {
     "jupyter_dashboards": {
      "activeView": "grid_default",
      "views": {
       "grid_default": {
        "col": null,
        "height": 2,
        "hidden": true,
        "row": null,
        "width": 2
       }
      }
     }
    }
   },
   "source": [
    "Here are the word clouds for each of the topics:"
   ]
  },
  {
   "cell_type": "code",
   "execution_count": 15,
   "metadata": {
    "extensions": {
     "jupyter_dashboards": {
      "activeView": "grid_default",
      "views": {
       "grid_default": {
        "col": null,
        "height": 2,
        "hidden": true,
        "row": null,
        "width": 2
       }
      }
     }
    }
   },
   "outputs": [],
   "source": [
    "def create_word_cloud(topic):\n",
    "    text = \" \".join(tweet for tweet in result.query(f'topic_prediction==\"{topic}\"')[\"tweet\"])\n",
    "\n",
    "    stopwords = set(STOPWORDS)\n",
    "    stopwords.update([\"RT\", \"https\", \"t\", \"COVID\", \"coronavirus\", \"Covid-19\", \"pandemic\", \"co\",\n",
    "                 \"s\", \"sound\", \"starting\", \"lot\", \"u\"])\n",
    "    wordcloud = WordCloud(stopwords=stopwords, background_color=\"white\",\n",
    "                     width=2000, height= 1200).generate(text)\n",
    "    plt.figure()\n",
    "    plt.imshow(wordcloud, interpolation='bilinear')\n",
    "    plt.axis(\"off\")\n",
    "    plt.show()"
   ]
  },
  {
   "cell_type": "markdown",
   "metadata": {
    "extensions": {
     "jupyter_dashboards": {
      "activeView": "grid_default",
      "views": {
       "grid_default": {
        "col": null,
        "height": 2,
        "hidden": true,
        "row": null,
        "width": 2
       }
      }
     }
    }
   },
   "source": [
    "# Sentiment and Topic Prediction\n",
    "\n",
    "Let's try to analyze how sentiment and topic prediction are related. For example, which are the topics that were most mentioned in the positive tweets relative to the negative tweets? Are vaccines most tweeted in a positive or in a negative fashinon?\n",
    "\n",
    "The following plots will help us to solve those questions. "
   ]
  },
  {
   "cell_type": "markdown",
   "metadata": {
    "extensions": {
     "jupyter_dashboards": {
      "activeView": "grid_default",
      "views": {
       "grid_default": {
        "col": 0,
        "height": 4,
        "hidden": false,
        "row": 47,
        "width": 11
       }
      }
     }
    }
   },
   "source": [
    "## Sentiments within topics\n",
    "\n",
    "With the following table, we can analyze the sentiment within each topic. For example, what percentage of the vaccines tweets were positive? What percentage were negative? \n",
    "\n",
    "And so on for the different topics predicted. "
   ]
  },
  {
   "cell_type": "code",
   "execution_count": 8,
   "metadata": {
    "extensions": {
     "jupyter_dashboards": {
      "activeView": "grid_default",
      "views": {
       "grid_default": {
        "col": 0,
        "height": 9,
        "hidden": false,
        "row": 51,
        "width": 7
       }
      }
     }
    }
   },
   "outputs": [
    {
     "data": {
      "text/html": [
       "<div>\n",
       "<style scoped>\n",
       "    .dataframe tbody tr th:only-of-type {\n",
       "        vertical-align: middle;\n",
       "    }\n",
       "\n",
       "    .dataframe tbody tr th {\n",
       "        vertical-align: top;\n",
       "    }\n",
       "\n",
       "    .dataframe thead th {\n",
       "        text-align: right;\n",
       "    }\n",
       "</style>\n",
       "<table border=\"1\" class=\"dataframe\">\n",
       "  <thead>\n",
       "    <tr style=\"text-align: right;\">\n",
       "      <th>sentiment_prediction</th>\n",
       "      <th>NEGATIVE</th>\n",
       "      <th>POSITIVE</th>\n",
       "      <th>difference</th>\n",
       "    </tr>\n",
       "    <tr>\n",
       "      <th>topic_prediction</th>\n",
       "      <th></th>\n",
       "      <th></th>\n",
       "      <th></th>\n",
       "    </tr>\n",
       "  </thead>\n",
       "  <tbody>\n",
       "    <tr>\n",
       "      <th>China</th>\n",
       "      <td>0.89</td>\n",
       "      <td>0.11</td>\n",
       "      <td>0.78</td>\n",
       "    </tr>\n",
       "    <tr>\n",
       "      <th>death</th>\n",
       "      <td>0.86</td>\n",
       "      <td>0.14</td>\n",
       "      <td>0.72</td>\n",
       "    </tr>\n",
       "    <tr>\n",
       "      <th>conspiracy</th>\n",
       "      <td>0.85</td>\n",
       "      <td>0.15</td>\n",
       "      <td>0.70</td>\n",
       "    </tr>\n",
       "    <tr>\n",
       "      <th>disease</th>\n",
       "      <td>0.80</td>\n",
       "      <td>0.20</td>\n",
       "      <td>0.60</td>\n",
       "    </tr>\n",
       "    <tr>\n",
       "      <th>vaccines</th>\n",
       "      <td>0.78</td>\n",
       "      <td>0.22</td>\n",
       "      <td>0.56</td>\n",
       "    </tr>\n",
       "    <tr>\n",
       "      <th>the economy</th>\n",
       "      <td>0.77</td>\n",
       "      <td>0.23</td>\n",
       "      <td>0.54</td>\n",
       "    </tr>\n",
       "    <tr>\n",
       "      <th>politics</th>\n",
       "      <td>0.76</td>\n",
       "      <td>0.24</td>\n",
       "      <td>0.52</td>\n",
       "    </tr>\n",
       "    <tr>\n",
       "      <th>public health</th>\n",
       "      <td>0.75</td>\n",
       "      <td>0.25</td>\n",
       "      <td>0.50</td>\n",
       "    </tr>\n",
       "    <tr>\n",
       "      <th>commerce</th>\n",
       "      <td>0.70</td>\n",
       "      <td>0.30</td>\n",
       "      <td>0.40</td>\n",
       "    </tr>\n",
       "    <tr>\n",
       "      <th>comedy</th>\n",
       "      <td>0.68</td>\n",
       "      <td>0.32</td>\n",
       "      <td>0.36</td>\n",
       "    </tr>\n",
       "    <tr>\n",
       "      <th>education</th>\n",
       "      <td>0.68</td>\n",
       "      <td>0.32</td>\n",
       "      <td>0.36</td>\n",
       "    </tr>\n",
       "    <tr>\n",
       "      <th>globalization</th>\n",
       "      <td>0.63</td>\n",
       "      <td>0.37</td>\n",
       "      <td>0.26</td>\n",
       "    </tr>\n",
       "    <tr>\n",
       "      <th>sports events</th>\n",
       "      <td>0.59</td>\n",
       "      <td>0.41</td>\n",
       "      <td>0.18</td>\n",
       "    </tr>\n",
       "    <tr>\n",
       "      <th>mental health</th>\n",
       "      <td>0.46</td>\n",
       "      <td>0.54</td>\n",
       "      <td>-0.08</td>\n",
       "    </tr>\n",
       "    <tr>\n",
       "      <th>natural environment</th>\n",
       "      <td>0.44</td>\n",
       "      <td>0.56</td>\n",
       "      <td>-0.12</td>\n",
       "    </tr>\n",
       "  </tbody>\n",
       "</table>\n",
       "</div>"
      ],
      "text/plain": [
       "sentiment_prediction  NEGATIVE  POSITIVE  difference\n",
       "topic_prediction                                    \n",
       "China                     0.89      0.11        0.78\n",
       "death                     0.86      0.14        0.72\n",
       "conspiracy                0.85      0.15        0.70\n",
       "disease                   0.80      0.20        0.60\n",
       "vaccines                  0.78      0.22        0.56\n",
       "the economy               0.77      0.23        0.54\n",
       "politics                  0.76      0.24        0.52\n",
       "public health             0.75      0.25        0.50\n",
       "commerce                  0.70      0.30        0.40\n",
       "comedy                    0.68      0.32        0.36\n",
       "education                 0.68      0.32        0.36\n",
       "globalization             0.63      0.37        0.26\n",
       "sports events             0.59      0.41        0.18\n",
       "mental health             0.46      0.54       -0.08\n",
       "natural environment       0.44      0.56       -0.12"
      ]
     },
     "execution_count": 8,
     "metadata": {},
     "output_type": "execute_result"
    }
   ],
   "source": [
    "pivot_values = pd.crosstab(result['topic_prediction'], result['sentiment_prediction'],normalize='index') \\\n",
    "                 .round(2)\n",
    "pivot_values['difference'] = pivot_values.eval('NEGATIVE-POSITIVE')\n",
    "pivot_values.sort_values('difference', ascending = False)"
   ]
  },
  {
   "cell_type": "markdown",
   "metadata": {
    "extensions": {
     "jupyter_dashboards": {
      "activeView": "grid_default",
      "views": {
       "grid_default": {
        "col": 7,
        "height": 9,
        "hidden": true,
        "row": 41,
        "width": 4
       }
      }
     }
    }
   },
   "source": [
    "In the table to the left, for each combination of `topic_prediction` and `sentiment_prediction`, it appears the percentage of the combination in all the predictions for the given topic. That is, of all the tweets about vaccines, 89% were of a negative sentiment and 11% were with a positive sentiment. \n",
    "\n",
    "That is, most tweets about death had a negative sentiment. Whereas the balance evens out the most with globalization. "
   ]
  },
  {
   "cell_type": "code",
   "execution_count": 9,
   "metadata": {
    "extensions": {
     "jupyter_dashboards": {
      "activeView": "grid_default",
      "views": {
       "grid_default": {
        "col": 0,
        "height": 9,
        "hidden": false,
        "row": 63,
        "width": 7
       }
      }
     }
    }
   },
   "outputs": [
    {
     "data": {
      "text/html": [
       "<div>\n",
       "<style scoped>\n",
       "    .dataframe tbody tr th:only-of-type {\n",
       "        vertical-align: middle;\n",
       "    }\n",
       "\n",
       "    .dataframe tbody tr th {\n",
       "        vertical-align: top;\n",
       "    }\n",
       "\n",
       "    .dataframe thead th {\n",
       "        text-align: right;\n",
       "    }\n",
       "</style>\n",
       "<table border=\"1\" class=\"dataframe\">\n",
       "  <thead>\n",
       "    <tr style=\"text-align: right;\">\n",
       "      <th>sentiment_prediction</th>\n",
       "      <th>NEGATIVE</th>\n",
       "      <th>POSITIVE</th>\n",
       "      <th>difference</th>\n",
       "    </tr>\n",
       "    <tr>\n",
       "      <th>topic_prediction</th>\n",
       "      <th></th>\n",
       "      <th></th>\n",
       "      <th></th>\n",
       "    </tr>\n",
       "  </thead>\n",
       "  <tbody>\n",
       "    <tr>\n",
       "      <th>conspiracy</th>\n",
       "      <td>0.19</td>\n",
       "      <td>0.11</td>\n",
       "      <td>0.08</td>\n",
       "    </tr>\n",
       "    <tr>\n",
       "      <th>disease</th>\n",
       "      <td>0.27</td>\n",
       "      <td>0.23</td>\n",
       "      <td>0.04</td>\n",
       "    </tr>\n",
       "    <tr>\n",
       "      <th>death</th>\n",
       "      <td>0.05</td>\n",
       "      <td>0.03</td>\n",
       "      <td>0.02</td>\n",
       "    </tr>\n",
       "    <tr>\n",
       "      <th>China</th>\n",
       "      <td>0.04</td>\n",
       "      <td>0.02</td>\n",
       "      <td>0.02</td>\n",
       "    </tr>\n",
       "    <tr>\n",
       "      <th>vaccines</th>\n",
       "      <td>0.11</td>\n",
       "      <td>0.10</td>\n",
       "      <td>0.01</td>\n",
       "    </tr>\n",
       "    <tr>\n",
       "      <th>politics</th>\n",
       "      <td>0.11</td>\n",
       "      <td>0.11</td>\n",
       "      <td>0.00</td>\n",
       "    </tr>\n",
       "    <tr>\n",
       "      <th>the economy</th>\n",
       "      <td>0.01</td>\n",
       "      <td>0.01</td>\n",
       "      <td>0.00</td>\n",
       "    </tr>\n",
       "    <tr>\n",
       "      <th>public health</th>\n",
       "      <td>0.05</td>\n",
       "      <td>0.06</td>\n",
       "      <td>-0.01</td>\n",
       "    </tr>\n",
       "    <tr>\n",
       "      <th>globalization</th>\n",
       "      <td>0.01</td>\n",
       "      <td>0.02</td>\n",
       "      <td>-0.01</td>\n",
       "    </tr>\n",
       "    <tr>\n",
       "      <th>commerce</th>\n",
       "      <td>0.04</td>\n",
       "      <td>0.06</td>\n",
       "      <td>-0.02</td>\n",
       "    </tr>\n",
       "    <tr>\n",
       "      <th>natural environment</th>\n",
       "      <td>0.01</td>\n",
       "      <td>0.03</td>\n",
       "      <td>-0.02</td>\n",
       "    </tr>\n",
       "    <tr>\n",
       "      <th>sports events</th>\n",
       "      <td>0.01</td>\n",
       "      <td>0.03</td>\n",
       "      <td>-0.02</td>\n",
       "    </tr>\n",
       "    <tr>\n",
       "      <th>comedy</th>\n",
       "      <td>0.05</td>\n",
       "      <td>0.07</td>\n",
       "      <td>-0.02</td>\n",
       "    </tr>\n",
       "    <tr>\n",
       "      <th>education</th>\n",
       "      <td>0.03</td>\n",
       "      <td>0.05</td>\n",
       "      <td>-0.02</td>\n",
       "    </tr>\n",
       "    <tr>\n",
       "      <th>mental health</th>\n",
       "      <td>0.02</td>\n",
       "      <td>0.07</td>\n",
       "      <td>-0.05</td>\n",
       "    </tr>\n",
       "  </tbody>\n",
       "</table>\n",
       "</div>"
      ],
      "text/plain": [
       "sentiment_prediction  NEGATIVE  POSITIVE  difference\n",
       "topic_prediction                                    \n",
       "conspiracy                0.19      0.11        0.08\n",
       "disease                   0.27      0.23        0.04\n",
       "death                     0.05      0.03        0.02\n",
       "China                     0.04      0.02        0.02\n",
       "vaccines                  0.11      0.10        0.01\n",
       "politics                  0.11      0.11        0.00\n",
       "the economy               0.01      0.01        0.00\n",
       "public health             0.05      0.06       -0.01\n",
       "globalization             0.01      0.02       -0.01\n",
       "commerce                  0.04      0.06       -0.02\n",
       "natural environment       0.01      0.03       -0.02\n",
       "sports events             0.01      0.03       -0.02\n",
       "comedy                    0.05      0.07       -0.02\n",
       "education                 0.03      0.05       -0.02\n",
       "mental health             0.02      0.07       -0.05"
      ]
     },
     "execution_count": 9,
     "metadata": {},
     "output_type": "execute_result"
    }
   ],
   "source": [
    "pivot_values = pd.crosstab(result['topic_prediction'], result['sentiment_prediction'],normalize='columns') \\\n",
    "                 .round(2)\n",
    "pivot_values['difference'] = pivot_values.eval('NEGATIVE-POSITIVE')\n",
    "pivot_values.sort_values('difference', ascending = False)"
   ]
  },
  {
   "cell_type": "markdown",
   "metadata": {
    "extensions": {
     "jupyter_dashboards": {
      "activeView": "grid_default",
      "views": {
       "grid_default": {
        "col": 0,
        "height": 3,
        "hidden": false,
        "row": 60,
        "width": 11
       }
      }
     }
    }
   },
   "source": [
    "## Topics across Sentiments\n",
    "\n",
    "With the following table, we can analyze which topics were the most popular within each sentiment. For example, which was the most popular topic in the positive tweets? Which was for the negative tweets?"
   ]
  },
  {
   "cell_type": "markdown",
   "metadata": {
    "extensions": {
     "jupyter_dashboards": {
      "activeView": "grid_default",
      "views": {
       "grid_default": {
        "col": 7,
        "height": 5,
        "hidden": true,
        "row": 53,
        "width": 4
       }
      }
     }
    }
   },
   "source": [
    "Whereas for negative tweets the death topic represents 10%, for the positive tweets it only represents 4%. Conversely, globalization tweets represent the 7% of the positive tweets; however, globalization tweets only represent 2% of the overall negative tweets. "
   ]
  },
  {
   "cell_type": "markdown",
   "metadata": {
    "extensions": {
     "jupyter_dashboards": {
      "activeView": "grid_default",
      "views": {
       "grid_default": {
        "col": null,
        "height": 2,
        "hidden": true,
        "row": null,
        "width": 2
       }
      }
     }
    }
   },
   "source": [
    "# Creating widgets out of the analysis"
   ]
  },
  {
   "cell_type": "code",
   "execution_count": 10,
   "metadata": {
    "extensions": {
     "jupyter_dashboards": {
      "activeView": "grid_default",
      "views": {
       "grid_default": {
        "col": null,
        "height": 2,
        "hidden": true,
        "row": null,
        "width": 2
       }
      }
     }
    }
   },
   "outputs": [],
   "source": [
    "import ipywidgets as widgets"
   ]
  },
  {
   "cell_type": "markdown",
   "metadata": {
    "extensions": {
     "jupyter_dashboards": {
      "activeView": "grid_default",
      "views": {
       "grid_default": {
        "col": 0,
        "height": 3,
        "hidden": false,
        "row": 17,
        "width": 12
       }
      }
     }
    }
   },
   "source": [
    "## Word Clouds: Different Topics\n",
    "\n",
    "With the following widget, you can see the word clouds for the tweets that were predicted at each of the 14 different topics with the Zero Shot Learning models from Hugging face. "
   ]
  },
  {
   "cell_type": "code",
   "execution_count": 11,
   "metadata": {
    "extensions": {
     "jupyter_dashboards": {
      "activeView": "grid_default",
      "views": {
       "grid_default": {
        "col": null,
        "height": 2,
        "hidden": true,
        "row": null,
        "width": 2
       }
      }
     }
    }
   },
   "outputs": [
    {
     "data": {
      "text/plain": [
       "Index(['disease', 'conspiracy', 'politics', 'vaccines', 'public health',\n",
       "       'comedy', 'death', 'commerce', 'education', 'China', 'mental health',\n",
       "       'sports events', 'the economy', 'natural environment', 'globalization'],\n",
       "      dtype='object', name='topic_prediction')"
      ]
     },
     "execution_count": 11,
     "metadata": {},
     "output_type": "execute_result"
    }
   ],
   "source": [
    "result.value_counts('topic_prediction').index"
   ]
  },
  {
   "cell_type": "code",
   "execution_count": 21,
   "metadata": {
    "extensions": {
     "jupyter_dashboards": {
      "activeView": "grid_default",
      "views": {
       "grid_default": {
        "col": 0,
        "height": 10,
        "hidden": false,
        "row": 20,
        "width": 12
       }
      }
     }
    }
   },
   "outputs": [
    {
     "data": {
      "application/vnd.jupyter.widget-view+json": {
       "model_id": "f7e8ed7015b04993bd08216e0b198a6e",
       "version_major": 2,
       "version_minor": 0
      },
      "text/plain": [
       "interactive(children=(Dropdown(description='topic', options=('disease', 'conspiracy', 'politics', 'vaccines', …"
      ]
     },
     "metadata": {},
     "output_type": "display_data"
    },
    {
     "data": {
      "text/plain": [
       "<function __main__.create_word_cloud(topic)>"
      ]
     },
     "execution_count": 21,
     "metadata": {},
     "output_type": "execute_result"
    }
   ],
   "source": [
    "widgets.interact(create_word_cloud, topic = result.value_counts('topic_prediction').index)"
   ]
  },
  {
   "cell_type": "markdown",
   "metadata": {
    "extensions": {
     "jupyter_dashboards": {
      "activeView": "grid_default",
      "views": {
       "grid_default": {
        "col": 0,
        "height": 3,
        "hidden": false,
        "row": 30,
        "width": 12
       }
      }
     }
    }
   },
   "source": [
    "## Word Clouds: Different Sentiments\n",
    "\n",
    "With the following widget, you can see the word clouds for the tweets that the Zero Shot Learning model from Hugging Face predicted. "
   ]
  },
  {
   "cell_type": "code",
   "execution_count": 22,
   "metadata": {
    "extensions": {
     "jupyter_dashboards": {
      "activeView": "grid_default",
      "views": {
       "grid_default": {
        "col": 0,
        "height": 14,
        "hidden": false,
        "row": 33,
        "width": 12
       }
      }
     }
    }
   },
   "outputs": [
    {
     "data": {
      "application/vnd.jupyter.widget-view+json": {
       "model_id": "75274df422f84c2e8f38e86b535c6763",
       "version_major": 2,
       "version_minor": 0
      },
      "text/plain": [
       "interactive(children=(Dropdown(description='sentiment', options=('NEGATIVE', 'POSITIVE'), value='NEGATIVE'), O…"
      ]
     },
     "metadata": {},
     "output_type": "display_data"
    },
    {
     "data": {
      "text/plain": [
       "<function __main__.word_cloud_sentiment(sentiment)>"
      ]
     },
     "execution_count": 22,
     "metadata": {},
     "output_type": "execute_result"
    }
   ],
   "source": [
    "widgets.interact(word_cloud_sentiment, sentiment=[\"NEGATIVE\", \"POSITIVE\"])"
   ]
  },
  {
   "cell_type": "markdown",
   "metadata": {
    "extensions": {
     "jupyter_dashboards": {
      "activeView": "grid_default",
      "views": {
       "grid_default": {
        "col": 0,
        "height": 2,
        "hidden": false,
        "row": 72,
        "width": 8
       }
      }
     }
    }
   },
   "source": [
    "# Topics and Sentiments: The overall picture"
   ]
  },
  {
   "cell_type": "code",
   "execution_count": 31,
   "metadata": {
    "extensions": {
     "jupyter_dashboards": {
      "activeView": "grid_default",
      "views": {
       "grid_default": {
        "col": null,
        "height": 2,
        "hidden": true,
        "row": null,
        "width": 2
       }
      }
     }
    }
   },
   "outputs": [],
   "source": [
    "labels = {}\n",
    "for topic in result.value_counts('topic_prediction').index:\n",
    "    labels[('NEGATIVE', topic)] = topic\n",
    "    labels[('POSITIVE', topic)] = topic\n",
    "labellizer = lambda k: labels[k]"
   ]
  },
  {
   "cell_type": "code",
   "execution_count": 33,
   "metadata": {
    "extensions": {
     "jupyter_dashboards": {
      "activeView": "grid_default",
      "views": {
       "grid_default": {
        "col": 0,
        "height": 20,
        "hidden": false,
        "row": 74,
        "width": 12
       }
      }
     }
    }
   },
   "outputs": [
    {
     "data": {
      "application/vnd.jupyter.widget-view+json": {
       "model_id": "f6a9d176a19448d1b96e18e4c2241f8e",
       "version_major": 2,
       "version_minor": 0
      },
      "text/plain": [
       "Canvas(toolbar=Toolbar(toolitems=[('Home', 'Reset original view', 'home', 'home'), ('Back', 'Back to previous …"
      ]
     },
     "metadata": {},
     "output_type": "display_data"
    }
   ],
   "source": [
    "import matplotlib as mpl\n",
    "sns.set_palette(\"Set1\")\n",
    "mpl.rcParams['text.color'] = 'white'\n",
    "from statsmodels.graphics.mosaicplot import mosaic\n",
    "with mpl.rc_context():\n",
    "    mpl.rc(\"figure\", figsize=(10, 15))\n",
    "    mosaic(result, ['sentiment_prediction', 'topic_prediction'], \n",
    "          title = \"Sentiment vs Topics\",\n",
    "          labelizer=labellizer)"
   ]
  }
 ],
 "metadata": {
  "extensions": {
   "jupyter_dashboards": {
    "activeView": "grid_default",
    "version": 1,
    "views": {
     "grid_default": {
      "cellMargin": 10,
      "defaultCellHeight": 60,
      "maxColumns": 12,
      "name": "grid",
      "type": "grid"
     }
    }
   }
  },
  "kernelspec": {
   "display_name": "Python 3",
   "language": "python",
   "name": "python3"
  },
  "language_info": {
   "codemirror_mode": {
    "name": "ipython",
    "version": 3
   },
   "file_extension": ".py",
   "mimetype": "text/x-python",
   "name": "python",
   "nbconvert_exporter": "python",
   "pygments_lexer": "ipython3",
   "version": "3.8.5"
  }
 },
 "nbformat": 4,
 "nbformat_minor": 4
}
