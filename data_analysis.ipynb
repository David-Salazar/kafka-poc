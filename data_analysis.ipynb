{
 "cells": [
  {
   "cell_type": "markdown",
   "metadata": {
    "extensions": {
     "jupyter_dashboards": {
      "activeView": "grid_default",
      "views": {
       "grid_default": {
        "col": 0,
        "height": 5,
        "hidden": false,
        "row": 6,
        "width": 12
       }
      }
     }
    }
   },
   "source": [
    "# Data Analysis\n",
    "\n",
    "At this time of the project, we have a fully working POC of an application that process Streaming Data in real time and uses machine learning to do online predictions. The results of the predictions are currently being stored in a MySQL database. \n",
    "\n",
    "In particular, this application reads a stream of tweets related to Covid-19, pre-process them and uses state-of-the-art NLP models to do sentiment and topic prediction analysis. Finally, these results are post-processed and written into a relational database in AWS. \n",
    "\n",
    "In this dashboard, we analyize our results"
   ]
  },
  {
   "cell_type": "code",
   "execution_count": 51,
   "metadata": {
    "extensions": {
     "jupyter_dashboards": {
      "activeView": "grid_default",
      "views": {
       "grid_default": {
        "col": null,
        "height": 2,
        "hidden": true,
        "row": null,
        "width": 2
       }
      }
     }
    }
   },
   "outputs": [
    {
     "data": {
      "text/plain": [
       "'There are 1967 classified tweets in the database'"
      ]
     },
     "metadata": {},
     "output_type": "display_data"
    },
    {
     "data": {
      "text/html": [
       "<div>\n",
       "<style scoped>\n",
       "    .dataframe tbody tr th:only-of-type {\n",
       "        vertical-align: middle;\n",
       "    }\n",
       "\n",
       "    .dataframe tbody tr th {\n",
       "        vertical-align: top;\n",
       "    }\n",
       "\n",
       "    .dataframe thead th {\n",
       "        text-align: right;\n",
       "    }\n",
       "</style>\n",
       "<table border=\"1\" class=\"dataframe\">\n",
       "  <thead>\n",
       "    <tr style=\"text-align: right;\">\n",
       "      <th></th>\n",
       "      <th>tweet</th>\n",
       "      <th>date_creation</th>\n",
       "      <th>sentiment_prediction</th>\n",
       "      <th>topic_prediction</th>\n",
       "    </tr>\n",
       "  </thead>\n",
       "  <tbody>\n",
       "    <tr>\n",
       "      <th>0</th>\n",
       "      <td>RT @CanadaDev: True or false: #CO2Emissions ha...</td>\n",
       "      <td>2021-02-05 15:13:33</td>\n",
       "      <td>NEGATIVE</td>\n",
       "      <td>work from home</td>\n",
       "    </tr>\n",
       "    <tr>\n",
       "      <th>1</th>\n",
       "      <td>RT @nprpolitics: The Senate approved a budget ...</td>\n",
       "      <td>2021-02-05 15:13:33</td>\n",
       "      <td>NEGATIVE</td>\n",
       "      <td>politics</td>\n",
       "    </tr>\n",
       "    <tr>\n",
       "      <th>2</th>\n",
       "      <td>@JustinTrudeau @DLeBlancNB Is @JustinTrudeau  ...</td>\n",
       "      <td>2021-02-05 15:13:33</td>\n",
       "      <td>NEGATIVE</td>\n",
       "      <td>politics</td>\n",
       "    </tr>\n",
       "    <tr>\n",
       "      <th>3</th>\n",
       "      <td>Shrewsbury Severn Bridges 10k Road Race will t...</td>\n",
       "      <td>2021-02-05 15:13:33</td>\n",
       "      <td>POSITIVE</td>\n",
       "      <td>work from home</td>\n",
       "    </tr>\n",
       "    <tr>\n",
       "      <th>4</th>\n",
       "      <td>RT @SpillerOfTea: Me taking a post-Covid trip ...</td>\n",
       "      <td>2021-02-05 15:13:33</td>\n",
       "      <td>NEGATIVE</td>\n",
       "      <td>health</td>\n",
       "    </tr>\n",
       "  </tbody>\n",
       "</table>\n",
       "</div>"
      ],
      "text/plain": [
       "                                               tweet       date_creation  \\\n",
       "0  RT @CanadaDev: True or false: #CO2Emissions ha... 2021-02-05 15:13:33   \n",
       "1  RT @nprpolitics: The Senate approved a budget ... 2021-02-05 15:13:33   \n",
       "2  @JustinTrudeau @DLeBlancNB Is @JustinTrudeau  ... 2021-02-05 15:13:33   \n",
       "3  Shrewsbury Severn Bridges 10k Road Race will t... 2021-02-05 15:13:33   \n",
       "4  RT @SpillerOfTea: Me taking a post-Covid trip ... 2021-02-05 15:13:33   \n",
       "\n",
       "  sentiment_prediction topic_prediction  \n",
       "0             NEGATIVE   work from home  \n",
       "1             NEGATIVE         politics  \n",
       "2             NEGATIVE         politics  \n",
       "3             POSITIVE   work from home  \n",
       "4             NEGATIVE           health  "
      ]
     },
     "execution_count": 51,
     "metadata": {},
     "output_type": "execute_result"
    }
   ],
   "source": [
    "########### Database Connection ##################\n",
    "\n",
    "import pymysql\n",
    "import numpy as np\n",
    "\n",
    "ENDPOINT = \"database-kaka.c8wdpocz3thc.us-east-1.rds.amazonaws.com\"\n",
    "PASSWORD = \"Bf2TiD4M4aOpbglEd9lM\"\n",
    "DBNAME = \"databasekafka\"\n",
    "USR = \"admin\"\n",
    "PORT = 3306\n",
    "connection = pymysql.connect(host=ENDPOINT, user=USR, password=PASSWORD, port=PORT, db=DBNAME)\n",
    "import pandas as pd\n",
    "query = 'SELECT * FROM covid_tweets'\n",
    "result = pd.read_sql(query, connection)\n",
    "connection.close() #close the connection\n",
    "display(f\"There are {len(result)} classified tweets in the database\")\n",
    "result[[\"tweet\", \"date_creation\", \"sentiment_prediction\", \"topic_prediction\"]].head()"
   ]
  },
  {
   "cell_type": "markdown",
   "metadata": {
    "extensions": {
     "jupyter_dashboards": {
      "activeView": "grid_default",
      "views": {
       "grid_default": {
        "col": null,
        "height": 2,
        "hidden": true,
        "row": null,
        "width": 2
       }
      }
     }
    }
   },
   "source": [
    "## Sentiment Analysis\n",
    "\n",
    "We expect much more negative predictions than positive predictions:"
   ]
  },
  {
   "cell_type": "code",
   "execution_count": 2,
   "metadata": {
    "extensions": {
     "jupyter_dashboards": {
      "activeView": "grid_default",
      "views": {
       "grid_default": {
        "col": null,
        "height": 2,
        "hidden": true,
        "row": null,
        "width": 2
       }
      }
     }
    }
   },
   "outputs": [
    {
     "data": {
      "text/plain": [
       "sentiment_prediction\n",
       "NEGATIVE    1173\n",
       "POSITIVE     414\n",
       "dtype: int64"
      ]
     },
     "execution_count": 33,
     "metadata": {},
     "output_type": "execute_result"
    }
   ],
   "source": [
    "result.value_counts('sentiment_prediction')"
   ]
  },
  {
   "cell_type": "code",
   "execution_count": 3,
   "metadata": {
    "extensions": {
     "jupyter_dashboards": {
      "activeView": "grid_default",
      "views": {
       "grid_default": {
        "col": null,
        "height": 2,
        "hidden": true,
        "row": null,
        "width": 2
       }
      }
     }
    }
   },
   "outputs": [],
   "source": [
    "%matplotlib widget\n",
    "import matplotlib.pyplot as plt  \n",
    "import ipympl\n",
    "import seaborn as sns\n",
    "\n",
    "plt.rcParams['axes.edgecolor']='#333F4B'\n",
    "plt.rcParams['axes.linewidth']=0.8\n",
    "plt.rcParams['xtick.color']='#333F4B'\n",
    "plt.rcParams['ytick.color']='#333F4B'\n",
    "\n",
    "plt.rcParams['font.family'] = 'DejaVu Sans'\n",
    "plt.rcParams['font.sans-serif'] = 'DejaVu Sans'\n",
    "\n",
    "plt.rcParams.update({'axes.spines.top': False, 'axes.spines.right': False})\n",
    "sns.set_palette(\"Set2\")"
   ]
  },
  {
   "cell_type": "code",
   "execution_count": 52,
   "metadata": {
    "extensions": {
     "jupyter_dashboards": {
      "activeView": "grid_default",
      "views": {
       "grid_default": {
        "col": 0,
        "height": 10,
        "hidden": false,
        "row": 11,
        "width": 12
       }
      }
     }
    }
   },
   "outputs": [
    {
     "data": {
      "text/html": [
       "<div>\n",
       "<style scoped>\n",
       "    .dataframe tbody tr th:only-of-type {\n",
       "        vertical-align: middle;\n",
       "    }\n",
       "\n",
       "    .dataframe tbody tr th {\n",
       "        vertical-align: top;\n",
       "    }\n",
       "\n",
       "    .dataframe thead th {\n",
       "        text-align: right;\n",
       "    }\n",
       "</style>\n",
       "<table border=\"1\" class=\"dataframe\">\n",
       "  <thead>\n",
       "    <tr style=\"text-align: right;\">\n",
       "      <th></th>\n",
       "      <th></th>\n",
       "      <th>sentiment_score</th>\n",
       "    </tr>\n",
       "    <tr>\n",
       "      <th>second</th>\n",
       "      <th>sentiment_prediction</th>\n",
       "      <th></th>\n",
       "    </tr>\n",
       "  </thead>\n",
       "  <tbody>\n",
       "    <tr>\n",
       "      <th rowspan=\"2\" valign=\"top\">0</th>\n",
       "      <th>NEGATIVE</th>\n",
       "      <td>24.0</td>\n",
       "    </tr>\n",
       "    <tr>\n",
       "      <th>POSITIVE</th>\n",
       "      <td>8.0</td>\n",
       "    </tr>\n",
       "    <tr>\n",
       "      <th rowspan=\"2\" valign=\"top\">1</th>\n",
       "      <th>NEGATIVE</th>\n",
       "      <td>27.0</td>\n",
       "    </tr>\n",
       "    <tr>\n",
       "      <th>POSITIVE</th>\n",
       "      <td>17.0</td>\n",
       "    </tr>\n",
       "    <tr>\n",
       "      <th>2</th>\n",
       "      <th>NEGATIVE</th>\n",
       "      <td>18.0</td>\n",
       "    </tr>\n",
       "    <tr>\n",
       "      <th>...</th>\n",
       "      <th>...</th>\n",
       "      <td>...</td>\n",
       "    </tr>\n",
       "    <tr>\n",
       "      <th>57</th>\n",
       "      <th>POSITIVE</th>\n",
       "      <td>4.0</td>\n",
       "    </tr>\n",
       "    <tr>\n",
       "      <th rowspan=\"2\" valign=\"top\">58</th>\n",
       "      <th>NEGATIVE</th>\n",
       "      <td>16.0</td>\n",
       "    </tr>\n",
       "    <tr>\n",
       "      <th>POSITIVE</th>\n",
       "      <td>5.0</td>\n",
       "    </tr>\n",
       "    <tr>\n",
       "      <th rowspan=\"2\" valign=\"top\">59</th>\n",
       "      <th>NEGATIVE</th>\n",
       "      <td>15.0</td>\n",
       "    </tr>\n",
       "    <tr>\n",
       "      <th>POSITIVE</th>\n",
       "      <td>6.0</td>\n",
       "    </tr>\n",
       "  </tbody>\n",
       "</table>\n",
       "<p>120 rows × 1 columns</p>\n",
       "</div>"
      ],
      "text/plain": [
       "                             sentiment_score\n",
       "second sentiment_prediction                 \n",
       "0      NEGATIVE                         24.0\n",
       "       POSITIVE                          8.0\n",
       "1      NEGATIVE                         27.0\n",
       "       POSITIVE                         17.0\n",
       "2      NEGATIVE                         18.0\n",
       "...                                      ...\n",
       "57     POSITIVE                          4.0\n",
       "58     NEGATIVE                         16.0\n",
       "       POSITIVE                          5.0\n",
       "59     NEGATIVE                         15.0\n",
       "       POSITIVE                          6.0\n",
       "\n",
       "[120 rows x 1 columns]"
      ]
     },
     "execution_count": 52,
     "metadata": {},
     "output_type": "execute_result"
    }
   ],
   "source": [
    "result[\"second\"] = result.date_creation.dt.second\n",
    "result.groupby([\"second\", \"sentiment_prediction\"]).agg({\"sentiment_score\": np.sum})"
   ]
  },
  {
   "cell_type": "markdown",
   "metadata": {
    "extensions": {
     "jupyter_dashboards": {
      "activeView": "grid_default",
      "views": {
       "grid_default": {
        "col": null,
        "height": 2,
        "hidden": true,
        "row": null,
        "width": 2
       }
      }
     }
    }
   },
   "source": [
    "And indeed there are. Out of the 18'000 tweets processed, only 3'000 have a positive sentiment. Let's check the word clouds for both batches of predictions."
   ]
  },
  {
   "cell_type": "code",
   "execution_count": 26,
   "metadata": {
    "extensions": {
     "jupyter_dashboards": {
      "activeView": "grid_default",
      "views": {
       "grid_default": {
        "col": null,
        "height": 2,
        "hidden": true,
        "row": null,
        "width": 2
       }
      }
     }
    }
   },
   "outputs": [],
   "source": [
    "from wordcloud import WordCloud, STOPWORDS, ImageColorGenerator\n",
    "import matplotlib.pyplot as plt\n",
    "\n",
    "def word_cloud_sentiment(sentiment):\n",
    "\n",
    "    text = \" \".join(tweet for tweet in result.query(f'sentiment_prediction==\"{sentiment}\"')[\"tweet\"])\n",
    "\n",
    "    stopwords = set(STOPWORDS)\n",
    "    stopwords.update([\"RT\", \"https\", \"t\", \"COVID\", \"coronavirus\", \"Covid-19\", \"pandemic\", \"co\",\n",
    "                     \"s\"])\n",
    "    print(f\"{sentiment} tweets: Word cloud \\n\")\n",
    "    wordcloud = WordCloud(stopwords=stopwords, background_color=\"white\",\n",
    "                         width=2000, height= 1200).generate(text)\n",
    "    plt.figure(figsize=(20,10))\n",
    "    plt.imshow(wordcloud, interpolation='bilinear')\n",
    "    plt.axis(\"off\")\n",
    "    plt.show()"
   ]
  },
  {
   "cell_type": "code",
   "execution_count": 17,
   "metadata": {
    "extensions": {
     "jupyter_dashboards": {
      "activeView": "grid_default",
      "views": {
       "grid_default": {
        "col": null,
        "height": 2,
        "hidden": true,
        "row": null,
        "width": 2
       }
      }
     }
    }
   },
   "outputs": [
    {
     "data": {
      "text/plain": [
       "topic_prediction\n",
       "health            568\n",
       "politics          472\n",
       "work from home    206\n",
       "vaccines          181\n",
       "the economy        93\n",
       "education          67\n",
       "dtype: int64"
      ]
     },
     "execution_count": 37,
     "metadata": {},
     "output_type": "execute_result"
    }
   ],
   "source": [
    "result.value_counts('topic_prediction')"
   ]
  },
  {
   "cell_type": "markdown",
   "metadata": {
    "extensions": {
     "jupyter_dashboards": {
      "activeView": "grid_default",
      "views": {
       "grid_default": {
        "col": null,
        "height": 2,
        "hidden": true,
        "row": null,
        "width": 2
       }
      }
     }
    }
   },
   "source": [
    "Here are the word clouds for each of the topics:"
   ]
  },
  {
   "cell_type": "code",
   "execution_count": 18,
   "metadata": {
    "extensions": {
     "jupyter_dashboards": {
      "activeView": "grid_default",
      "views": {
       "grid_default": {
        "col": null,
        "height": 2,
        "hidden": true,
        "row": null,
        "width": 2
       }
      }
     }
    }
   },
   "outputs": [],
   "source": [
    "def create_word_cloud(topic):\n",
    "    text = \" \".join(tweet for tweet in result.query(f'topic_prediction==\"{topic}\"')[\"tweet\"])\n",
    "\n",
    "    stopwords = set(STOPWORDS)\n",
    "    stopwords.update([\"RT\", \"https\", \"t\", \"COVID\", \"coronavirus\", \"Covid-19\", \"pandemic\", \"co\",\n",
    "                 \"s\", \"sound\", \"starting\", \"lot\", \"u\"])\n",
    "    wordcloud = WordCloud(stopwords=stopwords, background_color=\"white\",\n",
    "                     width=2000, height= 1200).generate(text)\n",
    "    plt.figure(figsize=(20,10))\n",
    "    plt.imshow(wordcloud, interpolation='bilinear')\n",
    "    plt.axis(\"off\")\n",
    "    plt.show()"
   ]
  },
  {
   "cell_type": "markdown",
   "metadata": {
    "extensions": {
     "jupyter_dashboards": {
      "activeView": "grid_default",
      "views": {
       "grid_default": {
        "col": null,
        "height": 2,
        "hidden": true,
        "row": null,
        "width": 2
       }
      }
     }
    }
   },
   "source": [
    "# Sentiment and Topic Prediction\n",
    "\n",
    "Let's try to analyze how sentiment and topic prediction are related. For example, which are the topics that were most mentioned in the positive tweets relative to the negative tweets? Are vaccines most tweeted in a positive or in a negative fashinon?\n",
    "\n",
    "The following plots will help us to solve those questions. "
   ]
  },
  {
   "cell_type": "markdown",
   "metadata": {
    "extensions": {
     "jupyter_dashboards": {
      "activeView": "grid_default",
      "views": {
       "grid_default": {
        "col": 0,
        "height": 4,
        "hidden": false,
        "row": 37,
        "width": 11
       }
      }
     }
    }
   },
   "source": [
    "## Sentiments within topics\n",
    "\n",
    "With the following table, we can analyze the sentiment within each topic. For example, what percentage of the vaccines tweets were positive? What percentage were negative? \n",
    "\n",
    "And so on for the different topics predicted. "
   ]
  },
  {
   "cell_type": "code",
   "execution_count": 19,
   "metadata": {
    "extensions": {
     "jupyter_dashboards": {
      "activeView": "grid_default",
      "views": {
       "grid_default": {
        "col": 0,
        "height": 9,
        "hidden": false,
        "row": 41,
        "width": 7
       }
      }
     }
    }
   },
   "outputs": [
    {
     "data": {
      "text/html": [
       "<div>\n",
       "<style scoped>\n",
       "    .dataframe tbody tr th:only-of-type {\n",
       "        vertical-align: middle;\n",
       "    }\n",
       "\n",
       "    .dataframe tbody tr th {\n",
       "        vertical-align: top;\n",
       "    }\n",
       "\n",
       "    .dataframe thead th {\n",
       "        text-align: right;\n",
       "    }\n",
       "</style>\n",
       "<table border=\"1\" class=\"dataframe\">\n",
       "  <thead>\n",
       "    <tr style=\"text-align: right;\">\n",
       "      <th>sentiment_prediction</th>\n",
       "      <th>NEGATIVE</th>\n",
       "      <th>POSITIVE</th>\n",
       "      <th>difference</th>\n",
       "    </tr>\n",
       "    <tr>\n",
       "      <th>topic_prediction</th>\n",
       "      <th></th>\n",
       "      <th></th>\n",
       "      <th></th>\n",
       "    </tr>\n",
       "  </thead>\n",
       "  <tbody>\n",
       "    <tr>\n",
       "      <th>education</th>\n",
       "      <td>0.82</td>\n",
       "      <td>0.18</td>\n",
       "      <td>0.64</td>\n",
       "    </tr>\n",
       "    <tr>\n",
       "      <th>health</th>\n",
       "      <td>0.80</td>\n",
       "      <td>0.20</td>\n",
       "      <td>0.60</td>\n",
       "    </tr>\n",
       "    <tr>\n",
       "      <th>vaccines</th>\n",
       "      <td>0.80</td>\n",
       "      <td>0.20</td>\n",
       "      <td>0.60</td>\n",
       "    </tr>\n",
       "    <tr>\n",
       "      <th>the economy</th>\n",
       "      <td>0.71</td>\n",
       "      <td>0.29</td>\n",
       "      <td>0.42</td>\n",
       "    </tr>\n",
       "    <tr>\n",
       "      <th>politics</th>\n",
       "      <td>0.69</td>\n",
       "      <td>0.31</td>\n",
       "      <td>0.38</td>\n",
       "    </tr>\n",
       "    <tr>\n",
       "      <th>work from home</th>\n",
       "      <td>0.62</td>\n",
       "      <td>0.38</td>\n",
       "      <td>0.24</td>\n",
       "    </tr>\n",
       "  </tbody>\n",
       "</table>\n",
       "</div>"
      ],
      "text/plain": [
       "sentiment_prediction  NEGATIVE  POSITIVE  difference\n",
       "topic_prediction                                    \n",
       "education                 0.82      0.18        0.64\n",
       "health                    0.80      0.20        0.60\n",
       "vaccines                  0.80      0.20        0.60\n",
       "the economy               0.71      0.29        0.42\n",
       "politics                  0.69      0.31        0.38\n",
       "work from home            0.62      0.38        0.24"
      ]
     },
     "execution_count": 39,
     "metadata": {},
     "output_type": "execute_result"
    }
   ],
   "source": [
    "pivot_values = pd.crosstab(result['topic_prediction'], result['sentiment_prediction'],normalize='index') \\\n",
    "                 .round(2)\n",
    "pivot_values['difference'] = pivot_values.eval('NEGATIVE-POSITIVE')\n",
    "pivot_values.sort_values('difference', ascending = False)"
   ]
  },
  {
   "cell_type": "markdown",
   "metadata": {
    "extensions": {
     "jupyter_dashboards": {
      "activeView": "grid_default",
      "views": {
       "grid_default": {
        "col": 7,
        "height": 9,
        "hidden": true,
        "row": 41,
        "width": 4
       }
      }
     }
    }
   },
   "source": [
    "In the table to the left, for each combination of `topic_prediction` and `sentiment_prediction`, it appears the percentage of the combination in all the predictions for the given topic. That is, of all the tweets about vaccines, 89% were of a negative sentiment and 11% were with a positive sentiment. \n",
    "\n",
    "That is, most tweets about death had a negative sentiment. Whereas the balance evens out the most with globalization. "
   ]
  },
  {
   "cell_type": "code",
   "execution_count": 20,
   "metadata": {
    "extensions": {
     "jupyter_dashboards": {
      "activeView": "grid_default",
      "views": {
       "grid_default": {
        "col": 0,
        "height": 9,
        "hidden": false,
        "row": 53,
        "width": 7
       }
      }
     }
    }
   },
   "outputs": [
    {
     "data": {
      "text/html": [
       "<div>\n",
       "<style scoped>\n",
       "    .dataframe tbody tr th:only-of-type {\n",
       "        vertical-align: middle;\n",
       "    }\n",
       "\n",
       "    .dataframe tbody tr th {\n",
       "        vertical-align: top;\n",
       "    }\n",
       "\n",
       "    .dataframe thead th {\n",
       "        text-align: right;\n",
       "    }\n",
       "</style>\n",
       "<table border=\"1\" class=\"dataframe\">\n",
       "  <thead>\n",
       "    <tr style=\"text-align: right;\">\n",
       "      <th>sentiment_prediction</th>\n",
       "      <th>NEGATIVE</th>\n",
       "      <th>POSITIVE</th>\n",
       "      <th>difference</th>\n",
       "    </tr>\n",
       "    <tr>\n",
       "      <th>topic_prediction</th>\n",
       "      <th></th>\n",
       "      <th></th>\n",
       "      <th></th>\n",
       "    </tr>\n",
       "  </thead>\n",
       "  <tbody>\n",
       "    <tr>\n",
       "      <th>health</th>\n",
       "      <td>0.39</td>\n",
       "      <td>0.28</td>\n",
       "      <td>0.11</td>\n",
       "    </tr>\n",
       "    <tr>\n",
       "      <th>vaccines</th>\n",
       "      <td>0.12</td>\n",
       "      <td>0.09</td>\n",
       "      <td>0.03</td>\n",
       "    </tr>\n",
       "    <tr>\n",
       "      <th>education</th>\n",
       "      <td>0.05</td>\n",
       "      <td>0.03</td>\n",
       "      <td>0.02</td>\n",
       "    </tr>\n",
       "    <tr>\n",
       "      <th>the economy</th>\n",
       "      <td>0.06</td>\n",
       "      <td>0.07</td>\n",
       "      <td>-0.01</td>\n",
       "    </tr>\n",
       "    <tr>\n",
       "      <th>politics</th>\n",
       "      <td>0.28</td>\n",
       "      <td>0.35</td>\n",
       "      <td>-0.07</td>\n",
       "    </tr>\n",
       "    <tr>\n",
       "      <th>work from home</th>\n",
       "      <td>0.11</td>\n",
       "      <td>0.19</td>\n",
       "      <td>-0.08</td>\n",
       "    </tr>\n",
       "  </tbody>\n",
       "</table>\n",
       "</div>"
      ],
      "text/plain": [
       "sentiment_prediction  NEGATIVE  POSITIVE  difference\n",
       "topic_prediction                                    \n",
       "health                    0.39      0.28        0.11\n",
       "vaccines                  0.12      0.09        0.03\n",
       "education                 0.05      0.03        0.02\n",
       "the economy               0.06      0.07       -0.01\n",
       "politics                  0.28      0.35       -0.07\n",
       "work from home            0.11      0.19       -0.08"
      ]
     },
     "execution_count": 40,
     "metadata": {},
     "output_type": "execute_result"
    }
   ],
   "source": [
    "pivot_values = pd.crosstab(result['topic_prediction'], result['sentiment_prediction'],normalize='columns') \\\n",
    "                 .round(2)\n",
    "pivot_values['difference'] = pivot_values.eval('NEGATIVE-POSITIVE')\n",
    "pivot_values.sort_values('difference', ascending = False)"
   ]
  },
  {
   "cell_type": "markdown",
   "metadata": {
    "extensions": {
     "jupyter_dashboards": {
      "activeView": "grid_default",
      "views": {
       "grid_default": {
        "col": 0,
        "height": 3,
        "hidden": false,
        "row": 50,
        "width": 11
       }
      }
     }
    }
   },
   "source": [
    "## Topics across Sentiments\n",
    "\n",
    "With the following table, we can analyze which topics were the most popular within each sentiment. For example, which was the most popular topic in the positive tweets? Which was for the negative tweets?"
   ]
  },
  {
   "cell_type": "markdown",
   "metadata": {
    "extensions": {
     "jupyter_dashboards": {
      "activeView": "grid_default",
      "views": {
       "grid_default": {
        "col": 7,
        "height": 5,
        "hidden": true,
        "row": 53,
        "width": 4
       }
      }
     }
    }
   },
   "source": [
    "Whereas for negative tweets the death topic represents 10%, for the positive tweets it only represents 4%. Conversely, globalization tweets represent the 7% of the positive tweets; however, globalization tweets only represent 2% of the overall negative tweets. "
   ]
  },
  {
   "cell_type": "code",
   "execution_count": 45,
   "metadata": {
    "extensions": {
     "jupyter_dashboards": {
      "activeView": "grid_default",
      "views": {
       "grid_default": {
        "col": null,
        "height": 2,
        "hidden": true,
        "row": null,
        "width": 2
       }
      }
     }
    }
   },
   "outputs": [
    {
     "data": {
      "application/vnd.jupyter.widget-view+json": {
       "model_id": "20dfd6aed0814d22b923503a6514390c",
       "version_major": 2,
       "version_minor": 0
      },
      "text/plain": [
       "Canvas(toolbar=Toolbar(toolitems=[('Home', 'Reset original view', 'home', 'home'), ('Back', 'Back to previous …"
      ]
     },
     "metadata": {},
     "output_type": "display_data"
    }
   ],
   "source": [
    "import matplotlib as mpl\n",
    "mpl.rcParams['text.color'] = 'white'\n",
    "from statsmodels.graphics.mosaicplot import mosaic\n",
    "import matplotlib as mpl\n",
    "with mpl.rc_context():\n",
    "    mpl.rc(\"figure\", figsize=(10, 15))\n",
    "    mosaic(result, ['sentiment_prediction', 'topic_prediction'], \n",
    "          title = \"Sentiment vs Topics\")"
   ]
  },
  {
   "cell_type": "markdown",
   "metadata": {
    "extensions": {
     "jupyter_dashboards": {
      "activeView": "grid_default",
      "views": {
       "grid_default": {
        "col": null,
        "height": 2,
        "hidden": true,
        "row": null,
        "width": 2
       }
      }
     }
    }
   },
   "source": [
    "# Creating widgets out of the analysis"
   ]
  },
  {
   "cell_type": "code",
   "execution_count": 24,
   "metadata": {
    "extensions": {
     "jupyter_dashboards": {
      "activeView": "grid_default",
      "views": {
       "grid_default": {
        "col": null,
        "height": 2,
        "hidden": true,
        "row": null,
        "width": 2
       }
      }
     }
    }
   },
   "outputs": [],
   "source": [
    "import ipywidgets as widgets"
   ]
  },
  {
   "cell_type": "markdown",
   "metadata": {
    "extensions": {
     "jupyter_dashboards": {
      "activeView": "grid_default",
      "views": {
       "grid_default": {
        "col": 0,
        "height": 3,
        "hidden": false,
        "row": 21,
        "width": 12
       }
      }
     }
    }
   },
   "source": [
    "## Word Clouds: Different Topics\n",
    "\n",
    "With the following widget, you can see the word clouds for the tweets that were predicted at each of the 14 different topics with the Zero Shot Learning models from Hugging face. "
   ]
  },
  {
   "cell_type": "code",
   "execution_count": 27,
   "metadata": {
    "extensions": {
     "jupyter_dashboards": {
      "activeView": "grid_default",
      "views": {
       "grid_default": {
        "col": 0,
        "height": 10,
        "hidden": false,
        "row": 24,
        "width": 12
       }
      }
     }
    }
   },
   "outputs": [
    {
     "data": {
      "application/vnd.jupyter.widget-view+json": {
       "model_id": "c98d30268b4143699aeb5f99c8a70fbd",
       "version_major": 2,
       "version_minor": 0
      },
      "text/plain": [
       "interactive(children=(Dropdown(description='topic', options=('health', 'politics', 'work from home', 'vaccines…"
      ]
     },
     "metadata": {},
     "output_type": "display_data"
    },
    {
     "data": {
      "text/plain": [
       "<function __main__.create_word_cloud(topic)>"
      ]
     },
     "execution_count": 43,
     "metadata": {},
     "output_type": "execute_result"
    }
   ],
   "source": [
    "widgets.interact(create_word_cloud, topic = result.value_counts('topic_prediction').index)"
   ]
  },
  {
   "cell_type": "markdown",
   "metadata": {
    "extensions": {
     "jupyter_dashboards": {
      "activeView": "grid_default",
      "views": {
       "grid_default": {
        "col": 0,
        "height": 3,
        "hidden": false,
        "row": 34,
        "width": 12
       }
      }
     }
    }
   },
   "source": [
    "## Word Clouds: Different Sentiments\n",
    "\n",
    "With the following widget, you can see the word clouds for the tweets that the Zero Shot Learning model from Hugging Face predicted. "
   ]
  },
  {
   "cell_type": "code",
   "execution_count": 15,
   "metadata": {
    "extensions": {
     "jupyter_dashboards": {
      "activeView": "grid_default",
      "views": {
       "grid_default": {
        "col": 0,
        "height": 9,
        "hidden": true,
        "row": 0,
        "width": 10
       }
      }
     }
    }
   },
   "outputs": [
    {
     "data": {
      "application/vnd.jupyter.widget-view+json": {
       "model_id": "fd02b6adf5b647cebf99777ec127f0b8",
       "version_major": 2,
       "version_minor": 0
      },
      "text/plain": [
       "interactive(children=(Dropdown(description='sentiment', options=('NEGATIVE', 'POSITIVE'), value='NEGATIVE'), O…"
      ]
     },
     "metadata": {},
     "output_type": "display_data"
    },
    {
     "data": {
      "text/plain": [
       "<function __main__.word_cloud_sentiment(sentiment)>"
      ]
     },
     "execution_count": 44,
     "metadata": {},
     "output_type": "execute_result"
    }
   ],
   "source": [
    "widgets.interact(word_cloud_sentiment, sentiment=[\"NEGATIVE\", \"POSITIVE\"])"
   ]
  }
 ],
 "metadata": {
  "extensions": {
   "jupyter_dashboards": {
    "activeView": "grid_default",
    "version": 1,
    "views": {
     "grid_default": {
      "cellMargin": 10,
      "defaultCellHeight": 60,
      "maxColumns": 12,
      "name": "grid",
      "type": "grid"
     }
    }
   }
  },
  "kernelspec": {
   "display_name": "Python 3",
   "language": "python",
   "name": "python3"
  },
  "language_info": {
   "codemirror_mode": {
    "name": "ipython",
    "version": 3
   },
   "file_extension": ".py",
   "mimetype": "text/x-python",
   "name": "python",
   "nbconvert_exporter": "python",
   "pygments_lexer": "ipython3",
   "version": "3.8.5"
  }
 },
 "nbformat": 4,
 "nbformat_minor": 4
}
